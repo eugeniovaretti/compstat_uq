{
 "cells": [
  {
   "cell_type": "markdown",
   "id": "f8f24328",
   "metadata": {},
   "source": [
    "Per riprodurre i risultati del paper, abbiamo usato il modello Hodgkin-Huxley (modificato da Valderrama). In particolare abbiamo fissato i valori dei parametri come nel paper e fatti variare in un intorno +/- 20%. Inoltre, abbiamo fissato il valore di intensità di carica applicata positiva a 140.\n",
    "Di seguito i risultati:"
   ]
  },
  {
   "cell_type": "code",
   "execution_count": 2,
   "id": "cba68f70",
   "metadata": {},
   "outputs": [],
   "source": [
    "from PIL import Image\n",
    "image1 = Image.open('figures1/valderrama_mean-variance.png')\n",
    "image2 = Image.open('figures1/valderrama_prediction-interval.png')\n",
    "image3 = Image.open('figures1/valderrama_sobol_first_grid.png')\n",
    "image1.show()\n",
    "image2.show()\n",
    "image3.show()"
   ]
  },
  {
   "cell_type": "markdown",
   "id": "5d486f62",
   "metadata": {},
   "source": [
    "Cosa osserviamo? Che, quando il neurone è esposto a una carica positva in t=0, si verifica una scarica e una carica dello stesso. In particolare, i fattori che contibuiscono a variazioni dell'output significativi sono g_k e E_Na, rispettivamente la massima conduttanza del canale Potassio e il potenziale inverso del canale del Sodio. Questo quindi fa capire che se vogliamo ridurre l'incertezza nella predizione del modello, bisogna cercare di fissare e misurare questi parametri.\n",
    "\n",
    "Ci siamo quindi chiesti: cosa succede se non applichiamo corrente a t=0? Quali diventano i parametri da fissare? Abbiamo quindi cambiato nel modello la corrente input portando il valore di I = 0.\n",
    "Ecco cosa abbiam ottenuto:"
   ]
  },
  {
   "cell_type": "code",
   "execution_count": 3,
   "id": "b9235d2d",
   "metadata": {},
   "outputs": [],
   "source": [
    "from PIL import Image\n",
    "image1 = Image.open('figures_nocurr/valderrama_mean-variance.png')\n",
    "image2 = Image.open('figures_nocurr/valderrama_prediction-interval.png')\n",
    "image3 = Image.open('figures_nocurr/valderrama_sobol_first_grid.png')\n",
    "image1.show()\n",
    "image2.show()\n",
    "image3.show()"
   ]
  },
  {
   "cell_type": "markdown",
   "id": "a644c856",
   "metadata": {},
   "source": [
    "In questo caso si vede come il potenziale di membrana sia poco sensibile ai due input *gbar_K* e *E_Na* (il Sobol index ora è q.s 0). Si può vedere allo stesso tempo come ora i fattori determinanti siano gbar_L, E_l,C_m e E_K.\n",
    "Questi risultati sono in linea con il significato **fisico** del modello;\n",
    "In particolare il picco del potenziale di azione è sensibile a *E_Na*, che è noto per determinare proprio il valore del picco. Allo stesso tempo si può vedere come durante la discesa del potenziale il Sobol di *_gbar_k* sia elevato il che è coerente in quanto quest'ultimo è il protagonista nella ripolarizzazione del neurone.  \n",
    "Per ulteriori informazioni leggere Sterrat et al, 2011."
   ]
  },
  {
   "cell_type": "markdown",
   "id": "c781feda",
   "metadata": {},
   "source": [
    "Avendo ottenuto questi risultati, abbiamo provato ad aumentare il numero di iterazioni del QMC.  Abbiamo osservato che la complessità di calcolo era molto elevata, abbiamo quindi cercato di utilizzare un modello surrogato, in particolare la PCE. \n",
    "Questa era già implementata in UQP **ma** con un numero di  parametri maggiore a 6 non era possibile ottenere nessun risultato in quanto in tutte le macchine usate, calcolare le statistiche mandava in _stallo_ il processo.  \n",
    "Abbiamo quindi ridotto i parametri guardando i risultati della prima UQ eseguita con QMC e abbiamo calcolato le basi per le PC con i relativi coefficienti. I risultati ottenuti seguono:"
   ]
  },
  {
   "cell_type": "code",
   "execution_count": 1,
   "id": "a0568fb7",
   "metadata": {},
   "outputs": [],
   "source": [
    "from PIL import Image\n",
    "image1 = Image.open('figures_pc/valderrama_mean-variance.png')\n",
    "image2 = Image.open('figures_pc/valderrama_prediction-interval.png')\n",
    "image3 = Image.open('figures_pc/valderrama_sobol_first_grid.png')\n",
    "image1.show()\n",
    "image2.show()\n",
    "image3.show()"
   ]
  },
  {
   "cell_type": "markdown",
   "id": "a7b6dcd8",
   "metadata": {},
   "source": [
    "Commento risultati:\n",
    "\n",
    "Teoria:\n",
    "https://psychology.stackexchange.com/questions/27354/why-is-it-only-positive-charge-that-gets-injected-into-a-neuron-when-we-inject-a\n"
   ]
  },
  {
   "cell_type": "code",
   "execution_count": 8,
   "id": "25c0746d",
   "metadata": {},
   "outputs": [
    {
     "ename": "TypeError",
     "evalue": "'float' object cannot be interpreted as an integer",
     "output_type": "error",
     "traceback": [
      "\u001b[0;31m---------------------------------------------------------------------------\u001b[0m",
      "\u001b[0;31mTypeError\u001b[0m                                 Traceback (most recent call last)",
      "Cell \u001b[0;32mIn[8], line 1\u001b[0m\n\u001b[0;32m----> 1\u001b[0m \u001b[38;5;28;01mfor\u001b[39;00m i \u001b[38;5;129;01min\u001b[39;00m \u001b[38;5;28;43mrange\u001b[39;49m\u001b[43m(\u001b[49m\u001b[38;5;241;43m-\u001b[39;49m\u001b[38;5;241;43m0.7\u001b[39;49m\u001b[43m,\u001b[49m\u001b[38;5;241;43m1.5\u001b[39;49m\u001b[43m,\u001b[49m\u001b[38;5;241;43m0.1\u001b[39;49m\u001b[43m)\u001b[49m:\n\u001b[1;32m      2\u001b[0m     \u001b[38;5;28;01mfor\u001b[39;00m j \u001b[38;5;129;01min\u001b[39;00m \u001b[38;5;28mrange\u001b[39m(\u001b[38;5;241m0.5\u001b[39m,\u001b[38;5;241m1.5\u001b[39m,\u001b[38;5;241m0.1\u001b[39m):\n\u001b[1;32m      3\u001b[0m         \u001b[38;5;66;03m#u = TF.solver(x0=i,y0=j,...)\u001b[39;00m\n\u001b[1;32m      4\u001b[0m         s \u001b[38;5;241m=\u001b[39m \u001b[38;5;124m\"\u001b[39m\u001b[38;5;124mx0=\u001b[39m\u001b[38;5;132;01m%.2f\u001b[39;00m\u001b[38;5;124m_y0=\u001b[39m\u001b[38;5;124m%\u001b[39m\u001b[38;5;124m2.f.npy\u001b[39m\u001b[38;5;124m\"\u001b[39m \u001b[38;5;241m%\u001b[39m (i,j)\n",
      "\u001b[0;31mTypeError\u001b[0m: 'float' object cannot be interpreted as an integer"
     ]
    }
   ],
   "source": []
  },
  {
   "cell_type": "code",
   "execution_count": null,
   "id": "933d27b3",
   "metadata": {},
   "outputs": [],
   "source": []
  }
 ],
 "metadata": {
  "kernelspec": {
   "display_name": "Python 3 (ipykernel)",
   "language": "python",
   "name": "python3"
  },
  "language_info": {
   "codemirror_mode": {
    "name": "ipython",
    "version": 3
   },
   "file_extension": ".py",
   "mimetype": "text/x-python",
   "name": "python",
   "nbconvert_exporter": "python",
   "pygments_lexer": "ipython3",
   "version": "3.8.16"
  }
 },
 "nbformat": 4,
 "nbformat_minor": 5
}
