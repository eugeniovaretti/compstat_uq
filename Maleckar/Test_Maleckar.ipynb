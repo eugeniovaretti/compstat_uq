{
 "cells": [
  {
   "cell_type": "code",
   "execution_count": 1,
   "id": "5d981175",
   "metadata": {},
   "outputs": [
    {
     "name": "stdout",
     "output_type": "stream",
     "text": [
      "ciao2\n"
     ]
    },
    {
     "name": "stderr",
     "output_type": "stream",
     "text": [
      "/Users/davideserra/opt/anaconda3/lib/python3.9/site-packages/SALib/sample/saltelli.py:94: UserWarning: \n",
      "        Convergence properties of the Sobol' sequence is only valid if\n",
      "        `N` (500) is equal to `2^n`.\n",
      "        \n",
      "  warnings.warn(msg)\n",
      "Running model: 100%|████████████████████████| 6500/6500 [15:16<00:00,  7.10it/s]\n"
     ]
    },
    {
     "name": "stdout",
     "output_type": "stream",
     "text": [
      "Saving data as: data/maleckar_model.h5\n"
     ]
    }
   ],
   "source": [
    "import uncertainpy as un\n",
    "import chaospy as cp\n",
    "\n",
    "from maleckar import maleckar_model\n",
    "\n",
    "# Initialize the model\n",
    "model = un.Model(run=maleckar_model,\n",
    "                 labels=[\"Time (ms)\", \"Membrane potential (mV)\"])\n",
    "\n",
    "# Define a parameter dictionary\n",
    "parameters = [[\"V_0\", -74.031982, None],\n",
    "              [\"PNa\", 0.0018, cp.Uniform(0.0009, 0.0027)],\n",
    "              [\"GK1\", 3.1, cp.Uniform(2.325, 3.875)],\n",
    "              [\"Gt\", 8.25, cp.Uniform(4.125, 12.375)],\n",
    "              [\"GKur\", 10, cp.Uniform(8.5, 11.5)],\n",
    "              #[\"GKr\", 0.5, cp.Uniform(0.25, 0.75)],\n",
    "              #[\"GKs\", 1.0, cp.Uniform(0.5, 1.5)],\n",
    "              [\"GCa_L\", 6.75, cp.Uniform(3.375, 10.125)],\n",
    "              #[\"Gb_Na\", 0.0605, cp.Uniform(0.303, 0.909)],\n",
    "              #[\"Gb_Ca\", 0.0590, cp.Uniform(0.0295,0.0885)],\n",
    "              [\"NaKMax\", 68.55, cp.Uniform(34.27,102.82)],\n",
    "              [\"KNaCa\", 0.0750, cp.Uniform(0.0375,0.11275)],\n",
    "              #[\"ip_CaMax\", 4.0, cp.Uniform(2,6)],\n",
    "              #[\"alpha_rel\", 200000,cp.Uniform(100000,200000)],\n",
    "              #[\"tao_tr\", 0.01, cp.Uniform(0.005,0.015)],\n",
    "              [\"iupMax\", 2800, cp.Uniform(1400,4300)],\n",
    "              [\"Kcyca\", 0.0003, cp.Uniform(0.00015,0.00045)],\n",
    "              #[\"Ksrca\", 0.5, cp.Uniform(0.25,0.75)],\n",
    "              #[\"Kxcs\", 0.4, cp.Uniform(0.2,0.6)],\n",
    "              [\"Cm\", 50, cp.Uniform(37.5,62.5)],\n",
    "              #[\"conc_Na\", 140.0, cp.Uniform(126.0,154.0)],\n",
    "              #[\"conc_Ca2\", 5.4, cp.Uniform(4.86, 5.94)],\n",
    "              #[\"conc_K\", 1.8, cp.Uniform(1.62,1.98)]\n",
    "             ]\n",
    "\n",
    "\n",
    "# Create the parameters\n",
    "parameters = un.Parameters(parameters)\n",
    "\n",
    "# Set all parameters to have a uniform distribution\n",
    "# within a 20% interval around their fixed value\n",
    "parameters.set_all_distributions(un.uniform(0.2))\n",
    "\n",
    "# Perform the uncertainty quantification\n",
    "UQ = un.UncertaintyQuantification(model,\n",
    "                                  parameters=parameters)\n",
    "# We set the seed to easier be able to reproduce the result\n",
    "data = UQ.quantify(seed=10, nr_mc_samples=1000)\n",
    "\n",
    "\n",
    "\n"
   ]
  },
  {
   "cell_type": "code",
   "execution_count": null,
   "id": "fed07ecc",
   "metadata": {},
   "outputs": [],
   "source": []
  }
 ],
 "metadata": {
  "kernelspec": {
   "display_name": "Python 3 (ipykernel)",
   "language": "python",
   "name": "python3"
  },
  "language_info": {
   "codemirror_mode": {
    "name": "ipython",
    "version": 3
   },
   "file_extension": ".py",
   "mimetype": "text/x-python",
   "name": "python",
   "nbconvert_exporter": "python",
   "pygments_lexer": "ipython3",
   "version": "3.9.13"
  }
 },
 "nbformat": 4,
 "nbformat_minor": 5
}
