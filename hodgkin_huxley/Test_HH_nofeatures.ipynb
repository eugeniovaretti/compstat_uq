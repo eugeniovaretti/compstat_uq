{
 "cells": [
  {
   "cell_type": "code",
   "execution_count": 1,
   "id": "873af24d",
   "metadata": {},
   "outputs": [
    {
     "name": "stdout",
     "output_type": "stream",
     "text": [
      "ciao2\n"
     ]
    },
    {
     "name": "stderr",
     "output_type": "stream",
     "text": [
      "/Users/davideserra/opt/anaconda3/lib/python3.9/site-packages/SALib/sample/saltelli.py:94: UserWarning: \n",
      "        Convergence properties of the Sobol' sequence is only valid if\n",
      "        `N` (5000) is equal to `2^n`.\n",
      "        \n",
      "  warnings.warn(msg)\n",
      "Running model: 100%|█████████████████████| 55000/55000 [02:22<00:00, 387.28it/s]\n"
     ]
    },
    {
     "name": "stdout",
     "output_type": "stream",
     "text": [
      "WARNING - accommodation_index: not all parameter combinations give results.\n",
      "WARNING - average_AHP_depth: not all parameter combinations give results.\n"
     ]
    },
    {
     "name": "stderr",
     "output_type": "stream",
     "text": [
      "/Users/davideserra/opt/anaconda3/lib/python3.9/site-packages/SALib/analyze/sobol.py:161: RuntimeWarning: invalid value encountered in double_scalars\n",
      "  return np.mean(B * (AB - A), axis=0) / np.var(np.r_[A, B], axis=0)\n",
      "/Users/davideserra/opt/anaconda3/lib/python3.9/site-packages/SALib/analyze/sobol.py:169: RuntimeWarning: invalid value encountered in double_scalars\n",
      "  return 0.5 * np.mean((A - AB) ** 2, axis=0) / np.var(np.r_[A, B], axis=0)\n",
      "/Users/davideserra/opt/anaconda3/lib/python3.9/site-packages/uncertainpy/core/uncertainty_calculations.py:1692: RuntimeWarning: Mean of empty slice\n",
      "  total_sense.append(np.nanmean(data[feature][sensitivity][i]))\n"
     ]
    },
    {
     "name": "stdout",
     "output_type": "stream",
     "text": [
      "Saving data as: data/HodgkinHuxley.h5\n",
      "WARNING -  Unable to plot sobol_first_average_grid. sobol_first_average of accommodation_index does not exist.\n",
      "WARNING -  Unable to plot sobol_first_average_grid. sobol_first_average of average_AHP_depth does not exist.\n"
     ]
    }
   ],
   "source": [
    "import uncertainpy as un\n",
    "import chaospy as cp\n",
    "\n",
    "from hodgkin_huxley import HodgkinHuxley\n",
    "\n",
    "# Define a parameter list\n",
    "parameter_list = [[\"V_rest\", -65, None],\n",
    "                  [\"Cm\", 1, cp.Uniform(0.8, 1.5)],\n",
    "                  [\"gbar_Na\", 120, cp.Uniform(80, 160)],\n",
    "                  #[\"gbar_K\", 36, cp.Uniform(26, 49)],\n",
    "                  [\"gbar_L\", 0.3, cp.Uniform(0.13, 0.5)],\n",
    "                  [\"E_Na\", 50, cp.Uniform(30, 54)],\n",
    "                  #[\"E_K\", -77, cp.Uniform(-74, -79)],\n",
    "                  [\"E_l\", -50.613, cp.Uniform(-61, -43)],\n",
    "                  [\"m0\", 0.0011, cp.Uniform(0.0005, 0.0016)],\n",
    "                  [\"n0\", 0.0003, cp.Uniform(0.0001, 0.0005)],\n",
    "                  [\"h0\", 0.9998, cp.Uniform(0.997, 0.9999)]]\n",
    "\n",
    "\n",
    "\n",
    "\n",
    "# Create the parameters using that parameter list\n",
    "parameters = un.Parameters(parameter_list)\n",
    "\n",
    "# Set all parameters to have a uniform distribution\n",
    "# within a 50% interval around their fixed value\n",
    "parameters.set_all_distributions(un.uniform(0.2))\n",
    "\n",
    "# Initialize the model\n",
    "model = HodgkinHuxley()\n",
    "\n",
    "# Initialize features\n",
    "features = un.SpikingFeatures()\n",
    "\n",
    "# Perform the uncertainty quantification\n",
    "UQ = un.UncertaintyQuantification(model=model,\n",
    "                                  parameters=parameters,\n",
    "                                  features=features)\n",
    "data = UQ.quantify()\n",
    "\n"
   ]
  },
  {
   "cell_type": "code",
   "execution_count": null,
   "id": "6d7278d3",
   "metadata": {},
   "outputs": [],
   "source": []
  }
 ],
 "metadata": {
  "kernelspec": {
   "display_name": "Python 3 (ipykernel)",
   "language": "python",
   "name": "python3"
  },
  "language_info": {
   "codemirror_mode": {
    "name": "ipython",
    "version": 3
   },
   "file_extension": ".py",
   "mimetype": "text/x-python",
   "name": "python",
   "nbconvert_exporter": "python",
   "pygments_lexer": "ipython3",
   "version": "3.9.13"
  }
 },
 "nbformat": 4,
 "nbformat_minor": 5
}
