{
 "cells": [
  {
   "cell_type": "markdown",
   "id": "ab09af0e",
   "metadata": {},
   "source": [
    "## Mitchell-Schaeffer:  \n",
    "Per la fisica del fenomeno ci riferiamo al paper https://www.ahajournals.org/doi/full/10.1161/CIRCEP.108.789081 .\n",
    "\n",
    "Abbiamo provato a fare UQ sul modello.  \n",
    "PREMESSA: Sappiamo che, per cellule cardiache sottoposte a una corrente iniziale *IstimAmplitude*, possono accadere due possibili eventi:\n",
    "1) Depolarizzazione -> la cellula cardiaca si attiva, in quanto lo stimolo iniziale è sufficiente per causare la depolarizzazione\n",
    "2) No-Depolarizzazione -> la cellula cardiaca **non** si attva, in quanto lo stimolo iniziale non è sufficiente per l'attivazione.  \n",
    "\n",
    "Nella nostra analisi quindi,la costante iniziale *IstimAmplitude* gioca un ruolo di separazione tra i due casi, non facendola variare in quanto sarebbe sicuramente la responsabile #1 della varianza sull'output. Esplorando un po' il risultato ottenuto valutando i modelli variando esclusivamente questo parametro, fissiamo a 0.05 la soglia attivazione/nonattivazione. Inoltre, valutiamo il modello in intervallo di tempo pari a 0.4 secondi in modo da osservare la completa repolarizzazione della membrana (il ritorno al Resting Potential). \n",
    "Per le cellule cardiache , a differenza di neuroni, questa fase è molto lenta. Questo meccanismo di difesa è molto importante, in quanto viene evitato un ulteriore  upstroke in un intervallo di tempo piccolo.  \n",
    "\n",
    "\n",
    "Per il caso 1) lasciando gradi di libertà su 8 parametri, i risultati seguono:\n"
   ]
  },
  {
   "cell_type": "code",
   "execution_count": 7,
   "id": "d6cc6ef1",
   "metadata": {},
   "outputs": [],
   "source": [
    "from PIL import Image\n",
    "image1 = Image.open('figures_act/mitchell_mean-variance.png')\n",
    "image2 = Image.open('figures_act/mitchell_prediction-interval.png')\n",
    "image3 = Image.open('figures_act/mitchell_sobol_first_grid.png')\n",
    "image1.show()\n",
    "image2.show()\n",
    "image3.show()"
   ]
  },
  {
   "cell_type": "markdown",
   "id": "c2b863cc",
   "metadata": {},
   "source": [
    "Si può vedere in maniera un po' più locale cosa succede alla media:"
   ]
  },
  {
   "cell_type": "code",
   "execution_count": 4,
   "id": "318c99df",
   "metadata": {},
   "outputs": [],
   "source": [
    "from PIL import Image\n",
    "image1 = Image.open('figures_200/mitchell_mean-variance.png')"
   ]
  },
  {
   "cell_type": "markdown",
   "id": "9c6fbd94",
   "metadata": {},
   "source": [
    "COMMENTO RISULTATI:\n",
    "\n",
    "\n",
    "Ci siamo quindi chiesti: cosa succede invece se la corrente iniziale non è abbastanza per garantire un upstroke? Seetando il parametro Istim_app a 0.05 otteniamo i seguenti risultati:"
   ]
  },
  {
   "cell_type": "code",
   "execution_count": 6,
   "id": "f6572cfc",
   "metadata": {},
   "outputs": [],
   "source": [
    "from PIL import Image\n",
    "image1 = Image.open('figures_noact/mitchell_mean-variance.png')\n",
    "image2 = Image.open('figures_noact/mitchell_prediction-interval.png')\n",
    "image3 = Image.open('figures_noact/mitchell_sobol_first_grid.png')\n",
    "image1.show()\n",
    "image2.show()\n",
    "image3.show()"
   ]
  },
  {
   "cell_type": "markdown",
   "id": "9ad0b2ab",
   "metadata": {},
   "source": [
    "Notiamo che inizialmente il potenziale di membrana è molto sensibile alla durata dell'impulso (potrebbe forse causare un attivazione indesiderata?), e a tau_out (). \n",
    "Nel mezzo del dominio temporale, invece, i Sobol di primo ordine non sommano a 1, il che è indicatore di effetti non lineari tra gli input sull'output. \n",
    "Anche il plot sulla media e l'intervallo di predizione non è chiarissimo. Qualcosa di non controllato accade (si noti che comunque, il potenziale è circa 0 sempre, potrebbe essere dovuto ad un problema numerico), ciononostante il potenziale si può considerare in quasi tutto il dominio equivalente al potenziale a riposo."
   ]
  }
 ],
 "metadata": {
  "kernelspec": {
   "display_name": "Python 3 (ipykernel)",
   "language": "python",
   "name": "python3"
  },
  "language_info": {
   "codemirror_mode": {
    "name": "ipython",
    "version": 3
   },
   "file_extension": ".py",
   "mimetype": "text/x-python",
   "name": "python",
   "nbconvert_exporter": "python",
   "pygments_lexer": "ipython3",
   "version": "3.9.6"
  }
 },
 "nbformat": 4,
 "nbformat_minor": 5
}
